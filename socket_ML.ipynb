{
 "cells": [
  {
   "cell_type": "code",
   "execution_count": null,
   "metadata": {},
   "outputs": [
    {
     "name": "stdout",
     "output_type": "stream",
     "text": [
      "('192.168.43.82', 40036)\n",
      "<class 'bytes'>\n",
      "5.1\n",
      "3.5\n",
      "1.4\n",
      "0.2\n",
      "[5.1, 3.5, 1.4, 0.2]\n",
      "Iris-setosa\n"
     ]
    }
   ],
   "source": [
    "import socket\n",
    "import threading\n",
    "import joblib\n",
    "import numpy as np\n",
    "model=joblib.load('iris_model.sav')\n",
    "s=socket.socket()\n",
    "s.setsockopt(socket.SOL_SOCKET,socket.SO_REUSEADDR,1)\n",
    "port=221\n",
    "ip=\"192.168.43.17\"\n",
    "s.bind((ip,port))\n",
    "s.listen()\n",
    "\n",
    "def ssh(c,addr):\n",
    "    print(addr)\n",
    "    c.send(b\"please send parameters for irisclasifier\")\n",
    "    data1=c.recv(1024)\n",
    "    print(type(data1))\n",
    "    s=data1.decode()\n",
    "    print(type(s))\n",
    "    p=s.split(sep=',')\n",
    "    print(type(p))\n",
    "    l=[]\n",
    "    for i in range(0,4):\n",
    "        k=float(p[i])\n",
    "        l.append(k)\n",
    "        print(k)\n",
    "    print(l)\n",
    "    pre=model.predict([l])[0]\n",
    "    print(pre)\n",
    "    \n",
    "    \n",
    "while True:\n",
    "    c,addr=s.accept()\n",
    "    t1=threading.Thread(target=ssh,args=(c,addr))\n",
    "    t1.start()"
   ]
  },
  {
   "cell_type": "code",
   "execution_count": 26,
   "metadata": {},
   "outputs": [
    {
     "data": {
      "text/plain": [
       "'Iris-setosa'"
      ]
     },
     "execution_count": 26,
     "metadata": {},
     "output_type": "execute_result"
    }
   ],
   "source": [
    "import joblib\n",
    "model=joblib.load('iris_model.sav')\n",
    "model.predict([[5.1,3.5,1.4,0.2]])[0]"
   ]
  },
  {
   "cell_type": "code",
   "execution_count": 27,
   "metadata": {},
   "outputs": [
    {
     "data": {
      "text/plain": [
       "bytes"
      ]
     },
     "execution_count": 27,
     "metadata": {},
     "output_type": "execute_result"
    }
   ],
   "source": [
    "k=b'5.1,3.5,1.4,0.2'\n",
    "type(k)"
   ]
  },
  {
   "cell_type": "code",
   "execution_count": 28,
   "metadata": {},
   "outputs": [
    {
     "data": {
      "text/plain": [
       "str"
      ]
     },
     "execution_count": 28,
     "metadata": {},
     "output_type": "execute_result"
    }
   ],
   "source": [
    "t=k.decode()\n",
    "type(t)"
   ]
  },
  {
   "cell_type": "code",
   "execution_count": 29,
   "metadata": {},
   "outputs": [
    {
     "data": {
      "text/plain": [
       "['5.1', '3.5', '1.4', '0.2']"
      ]
     },
     "execution_count": 29,
     "metadata": {},
     "output_type": "execute_result"
    }
   ],
   "source": [
    "p=t.split(sep=',')\n",
    "p"
   ]
  },
  {
   "cell_type": "code",
   "execution_count": 30,
   "metadata": {},
   "outputs": [
    {
     "data": {
      "text/plain": [
       "list"
      ]
     },
     "execution_count": 30,
     "metadata": {},
     "output_type": "execute_result"
    }
   ],
   "source": [
    "type(p)"
   ]
  },
  {
   "cell_type": "code",
   "execution_count": 38,
   "metadata": {},
   "outputs": [
    {
     "name": "stdout",
     "output_type": "stream",
     "text": [
      "5.1\n",
      "3.5\n",
      "1.4\n",
      "0.2\n",
      "[5.1, 3.5, 1.4, 0.2]\n"
     ]
    }
   ],
   "source": [
    "l=[]\n",
    "for i in range(0,4):\n",
    "    k=float(p[i])\n",
    "    l.append(k)\n",
    "    print(k)\n",
    "print(l)"
   ]
  },
  {
   "cell_type": "code",
   "execution_count": 39,
   "metadata": {},
   "outputs": [
    {
     "data": {
      "text/plain": [
       "array(['Iris-setosa'], dtype=object)"
      ]
     },
     "execution_count": 39,
     "metadata": {},
     "output_type": "execute_result"
    }
   ],
   "source": [
    "model.predict([l])"
   ]
  },
  {
   "cell_type": "code",
   "execution_count": null,
   "metadata": {},
   "outputs": [],
   "source": []
  }
 ],
 "metadata": {
  "kernelspec": {
   "display_name": "Python 3",
   "language": "python",
   "name": "python3"
  },
  "language_info": {
   "codemirror_mode": {
    "name": "ipython",
    "version": 3
   },
   "file_extension": ".py",
   "mimetype": "text/x-python",
   "name": "python",
   "nbconvert_exporter": "python",
   "pygments_lexer": "ipython3",
   "version": "3.7.7"
  }
 },
 "nbformat": 4,
 "nbformat_minor": 4
}
